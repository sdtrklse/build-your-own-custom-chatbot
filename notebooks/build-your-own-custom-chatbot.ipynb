{
 "cells": [
  {
   "cell_type": "code",
   "execution_count": 1,
   "id": "4ecbc5e8-59fa-46aa-9d5d-cab9dc3bb30e",
   "metadata": {},
   "outputs": [
    {
     "name": "stdout",
     "output_type": "stream",
     "text": [
      "Python 3.12.7\n"
     ]
    }
   ],
   "source": [
    "!python --version"
   ]
  },
  {
   "cell_type": "markdown",
   "id": "124e5672",
   "metadata": {},
   "source": [
    "# Build Your Own Custom Chatbot"
   ]
  },
  {
   "cell_type": "markdown",
   "id": "2a4a94b3",
   "metadata": {},
   "source": [
    "Write an explanation of which dataset you have chosen and why it is appropriate for this task.\n",
    "\n",
    "<font color=\"red\"> \n",
    "\n",
    "I’ve chosen the **\"Food Scrap Drop-Off Locations in NYC\"** dataset because it’s a great fit for building a chatbot that helps people find food scrap drop-off points around the city. The dataset has all the relevant details—like addresses, boroughs, neighborhoods, and hours of operation—which makes it perfect for answering questions about where and when people can drop off their food scraps. Plus, it includes extra info like contact details and any specific instructions, which will help make the chatbot’s responses more complete and helpful. This dataset is a good match for the task because it gives a structured, useful data to power the chatbot's ability to provide accurate, location-based answers.\n",
    "\n",
    "</font>"
   ]
  },
  {
   "cell_type": "markdown",
   "id": "be618d7b-9fda-4fbc-b2ff-3947e9591069",
   "metadata": {},
   "source": [
    "**PS:** The latest version of this dataset is downloaded from [**this link**](https://dev.socrata.com/foundry/data.cityofnewyork.us/if26-z6xq) and used in this project with the same name of the old version."
   ]
  },
  {
   "cell_type": "code",
   "execution_count": 2,
   "id": "b5282169-9286-407f-8d92-d0dd7d23badf",
   "metadata": {},
   "outputs": [],
   "source": [
    "import openai\n",
    "\n",
    "openai.api_base = \"https://openai.vocareum.com/v1\"\n",
    "openai.api_key = \"YOUR API KEY\""
   ]
  },
  {
   "cell_type": "code",
   "execution_count": 3,
   "id": "8a5e31fd-9356-4d18-95d7-d03bd0820b88",
   "metadata": {},
   "outputs": [],
   "source": [
    "import pandas as pd\n",
    "\n",
    "import tiktoken\n",
    "from openai.embeddings_utils import get_embedding, distances_from_embeddings\n",
    "\n",
    "pd.set_option(\"display.max_columns\", 8)"
   ]
  },
  {
   "cell_type": "code",
   "execution_count": 4,
   "id": "a98c8f73-f926-4e8e-a29d-a2c1734c8cf5",
   "metadata": {},
   "outputs": [],
   "source": [
    "COMPLETION_MODEL_NAME = \"gpt-3.5-turbo-instruct\"\n",
    "EMBEDDING_MODEL_NAME = \"text-embedding-ada-002\""
   ]
  },
  {
   "cell_type": "markdown",
   "id": "e1d550b7-5ebe-4b28-a0a7-d96f656c37ec",
   "metadata": {},
   "source": [
    "## Helpful Functions"
   ]
  },
  {
   "cell_type": "code",
   "execution_count": 5,
   "id": "38fab9d2-f77f-4e0c-9d5a-c1c47ef2ecb2",
   "metadata": {},
   "outputs": [],
   "source": [
    "def get_rows_sorted_by_relevance(question, df):\n",
    "    \"\"\"\n",
    "    Function that takes in a question string and a dataframe containing\n",
    "    rows of text and associated embeddings, and returns that dataframe\n",
    "    sorted from least to most relevant for that question\n",
    "    \"\"\"\n",
    "    \n",
    "    # Get embeddings for the question text\n",
    "    question_embeddings = get_embedding(question, engine=EMBEDDING_MODEL_NAME)\n",
    "    \n",
    "    # Make a copy of the dataframe and add a \"distances\" column containing\n",
    "    # the cosine distances between each row's embeddings and the\n",
    "    # embeddings of the question\n",
    "    df_copy = df.copy()\n",
    "    df_copy[\"distances\"] = distances_from_embeddings(\n",
    "        question_embeddings,\n",
    "        df_copy[\"embeddings\"].values,\n",
    "        distance_metric=\"cosine\"\n",
    "    )\n",
    "    \n",
    "    # Sort the copied dataframe by the distances and return it\n",
    "    # (shorter distance = more relevant so we sort in ascending order)\n",
    "    df_copy.sort_values(\"distances\", ascending=True, inplace=True)\n",
    "    return df_copy\n",
    "\n",
    "\n",
    "def create_prompt(question, df, max_token_count):\n",
    "    \"\"\"\n",
    "    Given a question and a dataframe containing rows of text and their\n",
    "    embeddings, return a text prompt to send to a Completion model\n",
    "    \"\"\"\n",
    "    # Create a tokenizer that is designed to align with our embeddings\n",
    "    tokenizer = tiktoken.get_encoding(\"cl100k_base\")\n",
    "    \n",
    "    # Count the number of tokens in the prompt template and question\n",
    "    prompt_template = \"\"\"\n",
    "    Answer the question based on the context below, and if the question\n",
    "    can't be answered based on the context, say \"I don't know\"\n",
    "    \n",
    "    Context: \n",
    "    \n",
    "    {}\n",
    "    \n",
    "    ---\n",
    "    \n",
    "    Question: {}\n",
    "    Answer:\"\"\"\n",
    "    \n",
    "    current_token_count = len(tokenizer.encode(prompt_template)) + \\\n",
    "                            len(tokenizer.encode(question))\n",
    "    \n",
    "    context = []\n",
    "    for text in get_rows_sorted_by_relevance(question, df)[\"text\"].values:\n",
    "        \n",
    "        # Increase the counter based on the number of tokens in this row\n",
    "        text_token_count = len(tokenizer.encode(text))\n",
    "        current_token_count += text_token_count\n",
    "        \n",
    "        # Add the row of text to the list if we haven't exceeded the max\n",
    "        if current_token_count <= max_token_count:\n",
    "            context.append(text)\n",
    "        else:\n",
    "            break\n",
    "\n",
    "    return prompt_template.format(\"\\n\\n###\\n\\n\".join(context), question)\n",
    "\n",
    "\n",
    "\n",
    "def answer_question(\n",
    "    question, df, max_prompt_tokens=1800, max_answer_tokens=150\n",
    "):\n",
    "    \"\"\"\n",
    "    Given a question, a dataframe containing rows of text, and a maximum\n",
    "    number of desired tokens in the prompt and response, return the\n",
    "    answer to the question according to an OpenAI Completion model\n",
    "    \n",
    "    If the model produces an error, return an empty string\n",
    "    \"\"\"\n",
    "    \n",
    "    \n",
    "    prompt = create_prompt(question, df, max_prompt_tokens)\n",
    "    \n",
    "    try:\n",
    "        response = openai.Completion.create(\n",
    "            model=COMPLETION_MODEL_NAME,\n",
    "            prompt=prompt,\n",
    "            max_tokens=max_answer_tokens\n",
    "        )\n",
    "        return response[\"choices\"][0][\"text\"].strip()\n",
    "    except Exception as e:\n",
    "        print(e)\n",
    "        return \"\""
   ]
  },
  {
   "cell_type": "markdown",
   "id": "a63d4c5f",
   "metadata": {},
   "source": [
    "## Data Wrangling"
   ]
  },
  {
   "cell_type": "code",
   "execution_count": 6,
   "id": "c69b83a1",
   "metadata": {},
   "outputs": [
    {
     "data": {
      "text/html": [
       "<div>\n",
       "<style scoped>\n",
       "    .dataframe tbody tr th:only-of-type {\n",
       "        vertical-align: middle;\n",
       "    }\n",
       "\n",
       "    .dataframe tbody tr th {\n",
       "        vertical-align: top;\n",
       "    }\n",
       "\n",
       "    .dataframe thead th {\n",
       "        text-align: right;\n",
       "    }\n",
       "</style>\n",
       "<table border=\"1\" class=\"dataframe\">\n",
       "  <thead>\n",
       "    <tr style=\"text-align: right;\">\n",
       "      <th></th>\n",
       "      <th>Borough</th>\n",
       "      <th>NTAName</th>\n",
       "      <th>SiteName</th>\n",
       "      <th>SiteAddr</th>\n",
       "      <th>...</th>\n",
       "      <th>DSNY District</th>\n",
       "      <th>DSNY Section</th>\n",
       "      <th>DSNY Zone</th>\n",
       "      <th>Senate District</th>\n",
       "    </tr>\n",
       "  </thead>\n",
       "  <tbody>\n",
       "    <tr>\n",
       "      <th>0</th>\n",
       "      <td>Brooklyn</td>\n",
       "      <td>Bay Ridge</td>\n",
       "      <td>4th Avenue Presbyterian Church</td>\n",
       "      <td>6753 4th Avenue, Brooklyn, NY 11220</td>\n",
       "      <td>...</td>\n",
       "      <td>BKS10</td>\n",
       "      <td>BKS101</td>\n",
       "      <td>BKS</td>\n",
       "      <td>17</td>\n",
       "    </tr>\n",
       "    <tr>\n",
       "      <th>1</th>\n",
       "      <td>Manhattan</td>\n",
       "      <td>East Midtown-Turtle Bay</td>\n",
       "      <td>Dag Hammarskjold Plaza Greenmarket</td>\n",
       "      <td>E 47th St &amp; 2nd Ave</td>\n",
       "      <td>...</td>\n",
       "      <td>MN06</td>\n",
       "      <td>MN063</td>\n",
       "      <td>MN</td>\n",
       "      <td>28</td>\n",
       "    </tr>\n",
       "    <tr>\n",
       "      <th>2</th>\n",
       "      <td>Manhattan</td>\n",
       "      <td>Hell's Kitchen</td>\n",
       "      <td>Hudson River Park's Pier 84 at W. 44th St.</td>\n",
       "      <td>Pier 84 at W. 44th St. near dog park</td>\n",
       "      <td>...</td>\n",
       "      <td>MN04</td>\n",
       "      <td>MN043</td>\n",
       "      <td>MN</td>\n",
       "      <td>47</td>\n",
       "    </tr>\n",
       "    <tr>\n",
       "      <th>3</th>\n",
       "      <td>Manhattan</td>\n",
       "      <td>East Midtown-Turtle Bay</td>\n",
       "      <td>58th Street Library FSDO</td>\n",
       "      <td>127 East 58th Street</td>\n",
       "      <td>...</td>\n",
       "      <td>MN05</td>\n",
       "      <td>MN052</td>\n",
       "      <td>MN</td>\n",
       "      <td>28</td>\n",
       "    </tr>\n",
       "    <tr>\n",
       "      <th>4</th>\n",
       "      <td>Manhattan</td>\n",
       "      <td>Tribeca-Civic Center</td>\n",
       "      <td>Tribeca Greenmarket</td>\n",
       "      <td>Greenwich St. &amp; Duane St</td>\n",
       "      <td>...</td>\n",
       "      <td>MN01</td>\n",
       "      <td>MN013</td>\n",
       "      <td>MN</td>\n",
       "      <td>27</td>\n",
       "    </tr>\n",
       "  </tbody>\n",
       "</table>\n",
       "<p>5 rows × 27 columns</p>\n",
       "</div>"
      ],
      "text/plain": [
       "     Borough                  NTAName  \\\n",
       "0   Brooklyn                Bay Ridge   \n",
       "1  Manhattan  East Midtown-Turtle Bay   \n",
       "2  Manhattan           Hell's Kitchen   \n",
       "3  Manhattan  East Midtown-Turtle Bay   \n",
       "4  Manhattan     Tribeca-Civic Center   \n",
       "\n",
       "                                     SiteName  \\\n",
       "0              4th Avenue Presbyterian Church   \n",
       "1          Dag Hammarskjold Plaza Greenmarket   \n",
       "2  Hudson River Park's Pier 84 at W. 44th St.   \n",
       "3                    58th Street Library FSDO   \n",
       "4                         Tribeca Greenmarket   \n",
       "\n",
       "                               SiteAddr  ... DSNY District  DSNY Section  \\\n",
       "0   6753 4th Avenue, Brooklyn, NY 11220  ...         BKS10        BKS101   \n",
       "1                   E 47th St & 2nd Ave  ...          MN06         MN063   \n",
       "2  Pier 84 at W. 44th St. near dog park  ...          MN04         MN043   \n",
       "3                  127 East 58th Street  ...          MN05         MN052   \n",
       "4              Greenwich St. & Duane St  ...          MN01         MN013   \n",
       "\n",
       "  DSNY Zone Senate District  \n",
       "0       BKS              17  \n",
       "1        MN              28  \n",
       "2        MN              47  \n",
       "3        MN              28  \n",
       "4        MN              27  \n",
       "\n",
       "[5 rows x 27 columns]"
      ]
     },
     "execution_count": 6,
     "metadata": {},
     "output_type": "execute_result"
    }
   ],
   "source": [
    "df_all = pd.read_csv(\"data/nyc-food-scrap-drop-off-sites.csv\")\n",
    "df_all.head()"
   ]
  },
  {
   "cell_type": "code",
   "execution_count": 7,
   "id": "c4b94999-5de9-475b-82d6-6e66ae8e4d51",
   "metadata": {},
   "outputs": [
    {
     "data": {
      "text/plain": [
       "(591, 27)"
      ]
     },
     "execution_count": 7,
     "metadata": {},
     "output_type": "execute_result"
    }
   ],
   "source": [
    "# The size of the dataset\n",
    "df_all.shape"
   ]
  },
  {
   "cell_type": "markdown",
   "id": "0d9620a0-5718-4fd3-ade5-fbf9076b5997",
   "metadata": {},
   "source": [
    "The dataset has 27 columns, and to create a `text` column for embeddings, I need to figure out how to combine the relevant information. After considering different options, I’ve decided to use **Formatted Text** because it helps add context to the data. This approach organizes the diverse details in a clear and structured way, making it easier for the chatbot to pull relevant information and generate more accurate responses."
   ]
  },
  {
   "cell_type": "code",
   "execution_count": 8,
   "id": "0a595980",
   "metadata": {},
   "outputs": [
    {
     "data": {
      "text/html": [
       "<div>\n",
       "<style scoped>\n",
       "    .dataframe tbody tr th:only-of-type {\n",
       "        vertical-align: middle;\n",
       "    }\n",
       "\n",
       "    .dataframe tbody tr th {\n",
       "        vertical-align: top;\n",
       "    }\n",
       "\n",
       "    .dataframe thead th {\n",
       "        text-align: right;\n",
       "    }\n",
       "</style>\n",
       "<table border=\"1\" class=\"dataframe\">\n",
       "  <thead>\n",
       "    <tr style=\"text-align: right;\">\n",
       "      <th></th>\n",
       "      <th>Borough</th>\n",
       "      <th>NTAName</th>\n",
       "      <th>SiteName</th>\n",
       "      <th>SiteAddr</th>\n",
       "      <th>...</th>\n",
       "      <th>DSNY Section</th>\n",
       "      <th>DSNY Zone</th>\n",
       "      <th>Senate District</th>\n",
       "      <th>text</th>\n",
       "    </tr>\n",
       "  </thead>\n",
       "  <tbody>\n",
       "    <tr>\n",
       "      <th>0</th>\n",
       "      <td>Brooklyn</td>\n",
       "      <td>Bay Ridge</td>\n",
       "      <td>4th Avenue Presbyterian Church</td>\n",
       "      <td>6753 4th Avenue, Brooklyn, NY 11220</td>\n",
       "      <td>...</td>\n",
       "      <td>BKS101</td>\n",
       "      <td>BKS</td>\n",
       "      <td>17</td>\n",
       "      <td>Borough: Brooklyn. NTAName: Bay Ridge. SiteNam...</td>\n",
       "    </tr>\n",
       "    <tr>\n",
       "      <th>1</th>\n",
       "      <td>Manhattan</td>\n",
       "      <td>East Midtown-Turtle Bay</td>\n",
       "      <td>Dag Hammarskjold Plaza Greenmarket</td>\n",
       "      <td>E 47th St &amp; 2nd Ave</td>\n",
       "      <td>...</td>\n",
       "      <td>MN063</td>\n",
       "      <td>MN</td>\n",
       "      <td>28</td>\n",
       "      <td>Borough: Manhattan. NTAName: East Midtown-Turt...</td>\n",
       "    </tr>\n",
       "    <tr>\n",
       "      <th>2</th>\n",
       "      <td>Manhattan</td>\n",
       "      <td>Hell's Kitchen</td>\n",
       "      <td>Hudson River Park's Pier 84 at W. 44th St.</td>\n",
       "      <td>Pier 84 at W. 44th St. near dog park</td>\n",
       "      <td>...</td>\n",
       "      <td>MN043</td>\n",
       "      <td>MN</td>\n",
       "      <td>47</td>\n",
       "      <td>Borough: Manhattan. NTAName: Hell's Kitchen. S...</td>\n",
       "    </tr>\n",
       "    <tr>\n",
       "      <th>3</th>\n",
       "      <td>Manhattan</td>\n",
       "      <td>East Midtown-Turtle Bay</td>\n",
       "      <td>58th Street Library FSDO</td>\n",
       "      <td>127 East 58th Street</td>\n",
       "      <td>...</td>\n",
       "      <td>MN052</td>\n",
       "      <td>MN</td>\n",
       "      <td>28</td>\n",
       "      <td>Borough: Manhattan. NTAName: East Midtown-Turt...</td>\n",
       "    </tr>\n",
       "    <tr>\n",
       "      <th>4</th>\n",
       "      <td>Manhattan</td>\n",
       "      <td>Tribeca-Civic Center</td>\n",
       "      <td>Tribeca Greenmarket</td>\n",
       "      <td>Greenwich St. &amp; Duane St</td>\n",
       "      <td>...</td>\n",
       "      <td>MN013</td>\n",
       "      <td>MN</td>\n",
       "      <td>27</td>\n",
       "      <td>Borough: Manhattan. NTAName: Tribeca-Civic Cen...</td>\n",
       "    </tr>\n",
       "  </tbody>\n",
       "</table>\n",
       "<p>5 rows × 28 columns</p>\n",
       "</div>"
      ],
      "text/plain": [
       "     Borough                  NTAName  \\\n",
       "0   Brooklyn                Bay Ridge   \n",
       "1  Manhattan  East Midtown-Turtle Bay   \n",
       "2  Manhattan           Hell's Kitchen   \n",
       "3  Manhattan  East Midtown-Turtle Bay   \n",
       "4  Manhattan     Tribeca-Civic Center   \n",
       "\n",
       "                                     SiteName  \\\n",
       "0              4th Avenue Presbyterian Church   \n",
       "1          Dag Hammarskjold Plaza Greenmarket   \n",
       "2  Hudson River Park's Pier 84 at W. 44th St.   \n",
       "3                    58th Street Library FSDO   \n",
       "4                         Tribeca Greenmarket   \n",
       "\n",
       "                               SiteAddr  ...  DSNY Section DSNY Zone  \\\n",
       "0   6753 4th Avenue, Brooklyn, NY 11220  ...        BKS101       BKS   \n",
       "1                   E 47th St & 2nd Ave  ...         MN063        MN   \n",
       "2  Pier 84 at W. 44th St. near dog park  ...         MN043        MN   \n",
       "3                  127 East 58th Street  ...         MN052        MN   \n",
       "4              Greenwich St. & Duane St  ...         MN013        MN   \n",
       "\n",
       "  Senate District                                               text  \n",
       "0              17  Borough: Brooklyn. NTAName: Bay Ridge. SiteNam...  \n",
       "1              28  Borough: Manhattan. NTAName: East Midtown-Turt...  \n",
       "2              47  Borough: Manhattan. NTAName: Hell's Kitchen. S...  \n",
       "3              28  Borough: Manhattan. NTAName: East Midtown-Turt...  \n",
       "4              27  Borough: Manhattan. NTAName: Tribeca-Civic Cen...  \n",
       "\n",
       "[5 rows x 28 columns]"
      ]
     },
     "execution_count": 8,
     "metadata": {},
     "output_type": "execute_result"
    }
   ],
   "source": [
    "# Create formatted text using all columns\n",
    "df_all[\"text\"] = df_all.apply(lambda row: \". \".join([f\"{col}: {row[col]}\" for col in df_all.columns]), axis=1)\n",
    "df_all.head()"
   ]
  },
  {
   "cell_type": "code",
   "execution_count": 9,
   "id": "acb3a9fd",
   "metadata": {},
   "outputs": [
    {
     "data": {
      "text/html": [
       "<div>\n",
       "<style scoped>\n",
       "    .dataframe tbody tr th:only-of-type {\n",
       "        vertical-align: middle;\n",
       "    }\n",
       "\n",
       "    .dataframe tbody tr th {\n",
       "        vertical-align: top;\n",
       "    }\n",
       "\n",
       "    .dataframe thead th {\n",
       "        text-align: right;\n",
       "    }\n",
       "</style>\n",
       "<table border=\"1\" class=\"dataframe\">\n",
       "  <thead>\n",
       "    <tr style=\"text-align: right;\">\n",
       "      <th></th>\n",
       "      <th>text</th>\n",
       "    </tr>\n",
       "  </thead>\n",
       "  <tbody>\n",
       "    <tr>\n",
       "      <th>0</th>\n",
       "      <td>Borough: Brooklyn. NTAName: Bay Ridge. SiteNam...</td>\n",
       "    </tr>\n",
       "    <tr>\n",
       "      <th>1</th>\n",
       "      <td>Borough: Manhattan. NTAName: East Midtown-Turt...</td>\n",
       "    </tr>\n",
       "    <tr>\n",
       "      <th>2</th>\n",
       "      <td>Borough: Manhattan. NTAName: Hell's Kitchen. S...</td>\n",
       "    </tr>\n",
       "    <tr>\n",
       "      <th>3</th>\n",
       "      <td>Borough: Manhattan. NTAName: East Midtown-Turt...</td>\n",
       "    </tr>\n",
       "    <tr>\n",
       "      <th>4</th>\n",
       "      <td>Borough: Manhattan. NTAName: Tribeca-Civic Cen...</td>\n",
       "    </tr>\n",
       "    <tr>\n",
       "      <th>...</th>\n",
       "      <td>...</td>\n",
       "    </tr>\n",
       "    <tr>\n",
       "      <th>586</th>\n",
       "      <td>Borough: Brooklyn. NTAName: Bedford-Stuyvesant...</td>\n",
       "    </tr>\n",
       "    <tr>\n",
       "      <th>587</th>\n",
       "      <td>Borough: Brooklyn. NTAName: Bushwick (West). S...</td>\n",
       "    </tr>\n",
       "    <tr>\n",
       "      <th>588</th>\n",
       "      <td>Borough: Manhattan. NTAName: Washington Height...</td>\n",
       "    </tr>\n",
       "    <tr>\n",
       "      <th>589</th>\n",
       "      <td>Borough: Manhattan. NTAName: Murray Hill-Kips ...</td>\n",
       "    </tr>\n",
       "    <tr>\n",
       "      <th>590</th>\n",
       "      <td>Borough: Bronx. NTAName: Norwood. SiteName: SE...</td>\n",
       "    </tr>\n",
       "  </tbody>\n",
       "</table>\n",
       "<p>591 rows × 1 columns</p>\n",
       "</div>"
      ],
      "text/plain": [
       "                                                  text\n",
       "0    Borough: Brooklyn. NTAName: Bay Ridge. SiteNam...\n",
       "1    Borough: Manhattan. NTAName: East Midtown-Turt...\n",
       "2    Borough: Manhattan. NTAName: Hell's Kitchen. S...\n",
       "3    Borough: Manhattan. NTAName: East Midtown-Turt...\n",
       "4    Borough: Manhattan. NTAName: Tribeca-Civic Cen...\n",
       "..                                                 ...\n",
       "586  Borough: Brooklyn. NTAName: Bedford-Stuyvesant...\n",
       "587  Borough: Brooklyn. NTAName: Bushwick (West). S...\n",
       "588  Borough: Manhattan. NTAName: Washington Height...\n",
       "589  Borough: Manhattan. NTAName: Murray Hill-Kips ...\n",
       "590  Borough: Bronx. NTAName: Norwood. SiteName: SE...\n",
       "\n",
       "[591 rows x 1 columns]"
      ]
     },
     "execution_count": 9,
     "metadata": {},
     "output_type": "execute_result"
    }
   ],
   "source": [
    "# Extract the \"text\" column for embeddings\n",
    "df = df_all[[\"text\"]].copy()\n",
    "df"
   ]
  },
  {
   "cell_type": "markdown",
   "id": "204f8559-47ea-4086-b84c-2bcbaa87f296",
   "metadata": {},
   "source": [
    "## Generating Embeddings"
   ]
  },
  {
   "cell_type": "markdown",
   "id": "cd00de4f-ee5f-4be6-9f2d-7783e3d3cf23",
   "metadata": {},
   "source": [
    "I use the `Embedding` tooling from OpenAI to create vectors representing each row of the custom dataset."
   ]
  },
  {
   "cell_type": "code",
   "execution_count": 10,
   "id": "60cd48c7-5d14-41ba-8c62-18d3780fb220",
   "metadata": {},
   "outputs": [
    {
     "data": {
      "text/html": [
       "<div>\n",
       "<style scoped>\n",
       "    .dataframe tbody tr th:only-of-type {\n",
       "        vertical-align: middle;\n",
       "    }\n",
       "\n",
       "    .dataframe tbody tr th {\n",
       "        vertical-align: top;\n",
       "    }\n",
       "\n",
       "    .dataframe thead th {\n",
       "        text-align: right;\n",
       "    }\n",
       "</style>\n",
       "<table border=\"1\" class=\"dataframe\">\n",
       "  <thead>\n",
       "    <tr style=\"text-align: right;\">\n",
       "      <th></th>\n",
       "      <th>text</th>\n",
       "      <th>embeddings</th>\n",
       "    </tr>\n",
       "  </thead>\n",
       "  <tbody>\n",
       "    <tr>\n",
       "      <th>0</th>\n",
       "      <td>Borough: Brooklyn. NTAName: Bay Ridge. SiteNam...</td>\n",
       "      <td>[0.0006570421974174678, -0.016451654955744743,...</td>\n",
       "    </tr>\n",
       "    <tr>\n",
       "      <th>1</th>\n",
       "      <td>Borough: Manhattan. NTAName: East Midtown-Turt...</td>\n",
       "      <td>[0.0023886493872851133, -0.013192134909331799,...</td>\n",
       "    </tr>\n",
       "    <tr>\n",
       "      <th>2</th>\n",
       "      <td>Borough: Manhattan. NTAName: Hell's Kitchen. S...</td>\n",
       "      <td>[0.02169746719300747, -0.019935237243771553, 0...</td>\n",
       "    </tr>\n",
       "    <tr>\n",
       "      <th>3</th>\n",
       "      <td>Borough: Manhattan. NTAName: East Midtown-Turt...</td>\n",
       "      <td>[0.0057630883529782295, -0.0025220056995749474...</td>\n",
       "    </tr>\n",
       "    <tr>\n",
       "      <th>4</th>\n",
       "      <td>Borough: Manhattan. NTAName: Tribeca-Civic Cen...</td>\n",
       "      <td>[0.006703699007630348, -0.011230423115193844, ...</td>\n",
       "    </tr>\n",
       "    <tr>\n",
       "      <th>...</th>\n",
       "      <td>...</td>\n",
       "      <td>...</td>\n",
       "    </tr>\n",
       "    <tr>\n",
       "      <th>586</th>\n",
       "      <td>Borough: Brooklyn. NTAName: Bedford-Stuyvesant...</td>\n",
       "      <td>[0.015958093106746674, 0.0048733665607869625, ...</td>\n",
       "    </tr>\n",
       "    <tr>\n",
       "      <th>587</th>\n",
       "      <td>Borough: Brooklyn. NTAName: Bushwick (West). S...</td>\n",
       "      <td>[0.011209751479327679, 0.0020601514261215925, ...</td>\n",
       "    </tr>\n",
       "    <tr>\n",
       "      <th>588</th>\n",
       "      <td>Borough: Manhattan. NTAName: Washington Height...</td>\n",
       "      <td>[0.013083045370876789, 0.010069809854030609, -...</td>\n",
       "    </tr>\n",
       "    <tr>\n",
       "      <th>589</th>\n",
       "      <td>Borough: Manhattan. NTAName: Murray Hill-Kips ...</td>\n",
       "      <td>[0.01667860336601734, 0.0027420930564403534, 0...</td>\n",
       "    </tr>\n",
       "    <tr>\n",
       "      <th>590</th>\n",
       "      <td>Borough: Bronx. NTAName: Norwood. SiteName: SE...</td>\n",
       "      <td>[0.010826567187905312, 0.015436316840350628, 0...</td>\n",
       "    </tr>\n",
       "  </tbody>\n",
       "</table>\n",
       "<p>591 rows × 2 columns</p>\n",
       "</div>"
      ],
      "text/plain": [
       "                                                  text  \\\n",
       "0    Borough: Brooklyn. NTAName: Bay Ridge. SiteNam...   \n",
       "1    Borough: Manhattan. NTAName: East Midtown-Turt...   \n",
       "2    Borough: Manhattan. NTAName: Hell's Kitchen. S...   \n",
       "3    Borough: Manhattan. NTAName: East Midtown-Turt...   \n",
       "4    Borough: Manhattan. NTAName: Tribeca-Civic Cen...   \n",
       "..                                                 ...   \n",
       "586  Borough: Brooklyn. NTAName: Bedford-Stuyvesant...   \n",
       "587  Borough: Brooklyn. NTAName: Bushwick (West). S...   \n",
       "588  Borough: Manhattan. NTAName: Washington Height...   \n",
       "589  Borough: Manhattan. NTAName: Murray Hill-Kips ...   \n",
       "590  Borough: Bronx. NTAName: Norwood. SiteName: SE...   \n",
       "\n",
       "                                            embeddings  \n",
       "0    [0.0006570421974174678, -0.016451654955744743,...  \n",
       "1    [0.0023886493872851133, -0.013192134909331799,...  \n",
       "2    [0.02169746719300747, -0.019935237243771553, 0...  \n",
       "3    [0.0057630883529782295, -0.0025220056995749474...  \n",
       "4    [0.006703699007630348, -0.011230423115193844, ...  \n",
       "..                                                 ...  \n",
       "586  [0.015958093106746674, 0.0048733665607869625, ...  \n",
       "587  [0.011209751479327679, 0.0020601514261215925, ...  \n",
       "588  [0.013083045370876789, 0.010069809854030609, -...  \n",
       "589  [0.01667860336601734, 0.0027420930564403534, 0...  \n",
       "590  [0.010826567187905312, 0.015436316840350628, 0...  \n",
       "\n",
       "[591 rows x 2 columns]"
      ]
     },
     "execution_count": 10,
     "metadata": {},
     "output_type": "execute_result"
    }
   ],
   "source": [
    "batch_size = 100\n",
    "embeddings = []\n",
    "\n",
    "for i in range(0, len(df), batch_size):\n",
    "    # Send text data to OpenAI model to get embeddings\n",
    "    response = openai.Embedding.create(\n",
    "        input=df.iloc[i:i+batch_size][\"text\"].tolist(),\n",
    "        engine=EMBEDDING_MODEL_NAME\n",
    "    )\n",
    "\n",
    "    # Add embeddings to list\n",
    "    embeddings.extend([data[\"embedding\"] for data in response[\"data\"]])\n",
    "\n",
    "# Add embeddings list to dataframe\n",
    "df[\"embeddings\"] = embeddings\n",
    "df"
   ]
  },
  {
   "cell_type": "code",
   "execution_count": 11,
   "id": "dd5ab4d2-dfe5-40a6-b048-26fb1df1af79",
   "metadata": {},
   "outputs": [],
   "source": [
    "# Save the generated embeddings as a CSV file\n",
    "df.to_csv(\"embeddings.csv\")"
   ]
  },
  {
   "cell_type": "markdown",
   "id": "290ad84b-5f74-4ff3-9d1f-b9c49994144e",
   "metadata": {},
   "source": [
    "## Custom Query Completion"
   ]
  },
  {
   "cell_type": "markdown",
   "id": "ae769871",
   "metadata": {},
   "source": [
    "Compose a custom query using your chosen dataset and retrieve results from an OpenAI `Completion` model.\n",
    "\n",
    "<font color=\"red\"> \n",
    "\n",
    "The functions retrieved from the course materials and are provided in the \"Helpful Functions\" section of the notebook.\n",
    "\n",
    "</font>"
   ]
  },
  {
   "cell_type": "markdown",
   "id": "19d65c23-157e-444a-89bf-4927419bb6db",
   "metadata": {},
   "source": [
    "## Custom Performance Demonstration"
   ]
  },
  {
   "cell_type": "markdown",
   "id": "1783f146",
   "metadata": {},
   "source": [
    "Demonstrate the performance of your custom query using at least 2 questions."
   ]
  },
  {
   "cell_type": "markdown",
   "id": "4f11fdc0",
   "metadata": {},
   "source": [
    "### Question 1"
   ]
  },
  {
   "cell_type": "code",
   "execution_count": 12,
   "id": "4901c850",
   "metadata": {},
   "outputs": [
    {
     "name": "stdout",
     "output_type": "stream",
     "text": [
      "I cannot provide the exact website for Crown Heights at 1107 Bergen Street without more information about what type of establishment it is. If it is a specific business or organization, you can try searching for it on a search engine such as Google. If it is a residential building or address, you can try searching for it on a real estate website.\n",
      "\n",
      "As for opening hours, I cannot provide that information as it will depend on the specific business or organization at that address. You can try contacting them directly or checking their website for their hours of operation.\n"
     ]
    }
   ],
   "source": [
    "q1_basic = \"what is the website for Crown Heights at 1107 bergen street and when it is open?\"\n",
    "q1_basic_answer = openai.Completion.create(\n",
    "    model=COMPLETION_MODEL_NAME,\n",
    "    prompt=q1_basic,\n",
    "    max_tokens=150\n",
    ")[\"choices\"][0][\"text\"].strip()\n",
    "\n",
    "print(q1_basic_answer)"
   ]
  },
  {
   "cell_type": "code",
   "execution_count": 13,
   "id": "dc545961-0bef-44ef-bff3-d2950d0976fc",
   "metadata": {},
   "outputs": [
    {
     "name": "stdout",
     "output_type": "stream",
     "text": [
      "https://bqlt.org/garden/1100-block-bergen-st-community-garden. Year Round from Sunday 10:00 AM to 3:00 PM.\n"
     ]
    }
   ],
   "source": [
    "q1_custom = \"What is the website for Crown Heights at 1107 Bergen street and when is it open?\"\n",
    "q1_custom_answer = answer_question(q1_custom, df)\n",
    "\n",
    "print(q1_custom_answer)"
   ]
  },
  {
   "cell_type": "code",
   "execution_count": 14,
   "id": "6f646989",
   "metadata": {},
   "outputs": [
    {
     "data": {
      "text/plain": [
       "Borough                                                        Brooklyn\n",
       "NTAName                                           Crown Heights (North)\n",
       "SiteName                            1100 Bergen Street Community Garden\n",
       "SiteAddr                         1107 Bergen Street, Brooklyn, NY 11216\n",
       "Hosted_By             Volunteers at 1100 Bergen Street Community Garden\n",
       "Open_Month                                                   Year Round\n",
       "Day_Hours             Sunday (Start Time: 10:00 AM - End Time:  3:00...\n",
       "Notes                                                               NaN\n",
       "Website               https://bqlt.org/garden/1100-block-bergen-st-c...\n",
       "BoroCD                                                              308\n",
       "CouncilDis                                                           36\n",
       "ct2010                                                          3031500\n",
       "BBL                                                                 NaN\n",
       "BIN                                                                 NaN\n",
       "Latitude                                                       40.67629\n",
       "Longitude                                                     -73.94925\n",
       "PolicePrec                                                           77\n",
       "Object ID                                                         40373\n",
       "Location Point                               POINT (-73.94925 40.67629)\n",
       "App Android                                                         NaN\n",
       "App iOS                                                             NaN\n",
       " Assembly District                                                   56\n",
       " Congress District                                                    9\n",
       "DSNY District                                                     BKN08\n",
       " DSNY Section                                                    BKN082\n",
       "DSNY Zone                                                           BKN\n",
       "Senate District                                                      20\n",
       "text                  Borough: Brooklyn. NTAName: Crown Heights (Nor...\n",
       "Name: 7, dtype: object"
      ]
     },
     "execution_count": 14,
     "metadata": {},
     "output_type": "execute_result"
    }
   ],
   "source": [
    "df_all.iloc[7]"
   ]
  },
  {
   "cell_type": "markdown",
   "id": "6e86e37c",
   "metadata": {},
   "source": [
    "### Question 2"
   ]
  },
  {
   "cell_type": "code",
   "execution_count": 15,
   "id": "11c07a54",
   "metadata": {},
   "outputs": [
    {
     "name": "stdout",
     "output_type": "stream",
     "text": [
      "When dropping off food scraps at a Greenmarket in Corona, Queens, there are a few precautions to keep in mind:\n",
      "\n",
      "1. Bring a container for your food scraps: It is important to bring a container or bag to hold your food scraps, as most greenmarkets do not provide them. Make sure the container is leak-proof and sturdy enough to hold your scraps.\n",
      "\n",
      "2. Keep your scraps separated and clean: To avoid contamination, keep different types of food scraps separated. You can also line your container with newspaper or a compostable bag to make cleaning easier.\n",
      "\n",
      "3. Be mindful of what you are composting: Only compost food scraps and other organic materials that are accepted by the greenmarket. These can include fruit and vegetable scraps, coffee grounds,\n"
     ]
    }
   ],
   "source": [
    "q2_basic = \"Are there any precoutions for for food scrap drop-off for someone living in Corona Greenmarket, Queens?\"\n",
    "q2_basic_answer = openai.Completion.create(\n",
    "    model=COMPLETION_MODEL_NAME,\n",
    "    prompt=q2_basic,\n",
    "    max_tokens=150\n",
    ")[\"choices\"][0][\"text\"].strip()\n",
    "\n",
    "print(q2_basic_answer)"
   ]
  },
  {
   "cell_type": "code",
   "execution_count": 16,
   "id": "639014ac-4de6-4ef9-9977-045934b0964a",
   "metadata": {},
   "outputs": [
    {
     "name": "stdout",
     "output_type": "stream",
     "text": [
      "No meat, bones, or dairy.\n"
     ]
    }
   ],
   "source": [
    "q2_custom = \"Are there any precoutions for for food scrap drop-off for someone living in Corona Greenmarket, Queens?\"\n",
    "q2_custom_answer = answer_question(q2_custom, df)\n",
    "\n",
    "print(q2_custom_answer)"
   ]
  },
  {
   "cell_type": "code",
   "execution_count": 17,
   "id": "bd69773d-824d-4a88-835d-41fb3d96e7bd",
   "metadata": {},
   "outputs": [
    {
     "data": {
      "text/plain": [
       "Borough                                                          Queens\n",
       "NTAName                                                          Corona\n",
       "SiteName                                             Corona Greenmarket\n",
       "SiteAddr                            Roosevelt Ave at 103 Street, Queens\n",
       "Hosted_By                                                       GrowNYC\n",
       "Open_Month                                                   Year Round\n",
       "Day_Hours             Friday (Start Time: 8:00 AM - End Time:  1:30 PM)\n",
       "Notes                                          No meat, bones, or dairy\n",
       "Website                                             grownyc.org/compost\n",
       "BoroCD                                                              404\n",
       "CouncilDis                                                           21\n",
       "ct2010                                                          4040501\n",
       "BBL                                                                 NaN\n",
       "BIN                                                                 NaN\n",
       "Latitude                                                      40.749728\n",
       "Longitude                                                    -73.862513\n",
       "PolicePrec                                                          110\n",
       "Object ID                                                         40732\n",
       "Location Point                             POINT (-73.862513 40.749728)\n",
       "App Android                                                         NaN\n",
       "App iOS                                                             NaN\n",
       " Assembly District                                                   39\n",
       " Congress District                                                   14\n",
       "DSNY District                                                      QW04\n",
       " DSNY Section                                                     QW043\n",
       "DSNY Zone                                                            QW\n",
       "Senate District                                                      13\n",
       "text                  Borough: Queens. NTAName: Corona. SiteName: Co...\n",
       "Name: 191, dtype: object"
      ]
     },
     "execution_count": 17,
     "metadata": {},
     "output_type": "execute_result"
    }
   ],
   "source": [
    "df_all.iloc[191]"
   ]
  },
  {
   "cell_type": "code",
   "execution_count": null,
   "id": "d4595b59-4e62-4230-bba1-5fd0d8d52ebf",
   "metadata": {},
   "outputs": [],
   "source": []
  }
 ],
 "metadata": {
  "kernelspec": {
   "display_name": "Python 3 (ipykernel)",
   "language": "python",
   "name": "python3"
  },
  "language_info": {
   "codemirror_mode": {
    "name": "ipython",
    "version": 3
   },
   "file_extension": ".py",
   "mimetype": "text/x-python",
   "name": "python",
   "nbconvert_exporter": "python",
   "pygments_lexer": "ipython3",
   "version": "3.12.7"
  }
 },
 "nbformat": 4,
 "nbformat_minor": 5
}
